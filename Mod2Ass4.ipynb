{
 "cells": [
  {
   "cell_type": "code",
   "execution_count": 173,
   "metadata": {
    "collapsed": true,
    "deletable": true,
    "editable": true
   },
   "outputs": [],
   "source": [
    "import pandas as pd"
   ]
  },
  {
   "cell_type": "code",
   "execution_count": 174,
   "metadata": {
    "collapsed": true
   },
   "outputs": [],
   "source": [
    "headers = ['RK', 'PLAYER', 'TEAM', 'GP', 'G', 'A', 'PTS', '+/-', 'PIM','PTS/G', 'SOG', 'PCT', 'GWG', 'PP_G', 'PP_A', 'SH_G', 'SH_A']"
   ]
  },
  {
   "cell_type": "code",
   "execution_count": 175,
   "metadata": {
    "collapsed": false,
    "deletable": true,
    "editable": true
   },
   "outputs": [],
   "source": [
    "df = pd.read_html('http://www.espn.com/nhl/statistics/player/_/stat/points/sort/points/year/2015/seasontype/2', header=1)[0]"
   ]
  },
  {
   "cell_type": "code",
   "execution_count": 176,
   "metadata": {
    "collapsed": false,
    "deletable": true,
    "editable": true
   },
   "outputs": [
    {
     "data": {
      "text/html": [
       "<div>\n",
       "<table border=\"1\" class=\"dataframe\">\n",
       "  <thead>\n",
       "    <tr style=\"text-align: right;\">\n",
       "      <th></th>\n",
       "      <th>RK</th>\n",
       "      <th>PLAYER</th>\n",
       "      <th>TEAM</th>\n",
       "      <th>GP</th>\n",
       "      <th>G</th>\n",
       "      <th>A</th>\n",
       "      <th>PTS</th>\n",
       "      <th>+/-</th>\n",
       "      <th>PIM</th>\n",
       "      <th>PTS/G</th>\n",
       "      <th>SOG</th>\n",
       "      <th>PCT</th>\n",
       "      <th>GWG</th>\n",
       "      <th>G.1</th>\n",
       "      <th>A.1</th>\n",
       "      <th>G.2</th>\n",
       "      <th>A.2</th>\n",
       "    </tr>\n",
       "  </thead>\n",
       "  <tbody>\n",
       "    <tr>\n",
       "      <th>0</th>\n",
       "      <td>1</td>\n",
       "      <td>Jamie Benn, LW</td>\n",
       "      <td>DAL</td>\n",
       "      <td>82</td>\n",
       "      <td>35</td>\n",
       "      <td>52</td>\n",
       "      <td>87</td>\n",
       "      <td>1</td>\n",
       "      <td>64</td>\n",
       "      <td>1.06</td>\n",
       "      <td>253</td>\n",
       "      <td>13.8</td>\n",
       "      <td>6</td>\n",
       "      <td>10</td>\n",
       "      <td>13</td>\n",
       "      <td>2</td>\n",
       "      <td>3</td>\n",
       "    </tr>\n",
       "    <tr>\n",
       "      <th>1</th>\n",
       "      <td>2</td>\n",
       "      <td>John Tavares, C</td>\n",
       "      <td>NYI</td>\n",
       "      <td>82</td>\n",
       "      <td>38</td>\n",
       "      <td>48</td>\n",
       "      <td>86</td>\n",
       "      <td>5</td>\n",
       "      <td>46</td>\n",
       "      <td>1.05</td>\n",
       "      <td>278</td>\n",
       "      <td>13.7</td>\n",
       "      <td>8</td>\n",
       "      <td>13</td>\n",
       "      <td>18</td>\n",
       "      <td>0</td>\n",
       "      <td>1</td>\n",
       "    </tr>\n",
       "    <tr>\n",
       "      <th>2</th>\n",
       "      <td>3</td>\n",
       "      <td>Sidney Crosby, C</td>\n",
       "      <td>PIT</td>\n",
       "      <td>77</td>\n",
       "      <td>28</td>\n",
       "      <td>56</td>\n",
       "      <td>84</td>\n",
       "      <td>5</td>\n",
       "      <td>47</td>\n",
       "      <td>1.09</td>\n",
       "      <td>237</td>\n",
       "      <td>11.8</td>\n",
       "      <td>3</td>\n",
       "      <td>10</td>\n",
       "      <td>21</td>\n",
       "      <td>0</td>\n",
       "      <td>0</td>\n",
       "    </tr>\n",
       "    <tr>\n",
       "      <th>3</th>\n",
       "      <td>4</td>\n",
       "      <td>Alex Ovechkin, LW</td>\n",
       "      <td>WSH</td>\n",
       "      <td>81</td>\n",
       "      <td>53</td>\n",
       "      <td>28</td>\n",
       "      <td>81</td>\n",
       "      <td>10</td>\n",
       "      <td>58</td>\n",
       "      <td>1.00</td>\n",
       "      <td>395</td>\n",
       "      <td>13.4</td>\n",
       "      <td>11</td>\n",
       "      <td>25</td>\n",
       "      <td>9</td>\n",
       "      <td>0</td>\n",
       "      <td>0</td>\n",
       "    </tr>\n",
       "    <tr>\n",
       "      <th>4</th>\n",
       "      <td>NaN</td>\n",
       "      <td>Jakub Voracek, RW</td>\n",
       "      <td>PHI</td>\n",
       "      <td>82</td>\n",
       "      <td>22</td>\n",
       "      <td>59</td>\n",
       "      <td>81</td>\n",
       "      <td>1</td>\n",
       "      <td>78</td>\n",
       "      <td>0.99</td>\n",
       "      <td>221</td>\n",
       "      <td>10.0</td>\n",
       "      <td>3</td>\n",
       "      <td>11</td>\n",
       "      <td>22</td>\n",
       "      <td>0</td>\n",
       "      <td>0</td>\n",
       "    </tr>\n",
       "  </tbody>\n",
       "</table>\n",
       "</div>"
      ],
      "text/plain": [
       "    RK             PLAYER TEAM  GP   G   A PTS +/- PIM PTS/G  SOG   PCT GWG  \\\n",
       "0    1     Jamie Benn, LW  DAL  82  35  52  87   1  64  1.06  253  13.8   6   \n",
       "1    2    John Tavares, C  NYI  82  38  48  86   5  46  1.05  278  13.7   8   \n",
       "2    3   Sidney Crosby, C  PIT  77  28  56  84   5  47  1.09  237  11.8   3   \n",
       "3    4  Alex Ovechkin, LW  WSH  81  53  28  81  10  58  1.00  395  13.4  11   \n",
       "4  NaN  Jakub Voracek, RW  PHI  82  22  59  81   1  78  0.99  221  10.0   3   \n",
       "\n",
       "  G.1 A.1 G.2 A.2  \n",
       "0  10  13   2   3  \n",
       "1  13  18   0   1  \n",
       "2  10  21   0   0  \n",
       "3  25   9   0   0  \n",
       "4  11  22   0   0  "
      ]
     },
     "execution_count": 176,
     "metadata": {},
     "output_type": "execute_result"
    }
   ],
   "source": [
    "df.head()"
   ]
  },
  {
   "cell_type": "code",
   "execution_count": 177,
   "metadata": {
    "collapsed": false
   },
   "outputs": [],
   "source": [
    "df = df.drop('RK', axis=1)"
   ]
  },
  {
   "cell_type": "code",
   "execution_count": 178,
   "metadata": {
    "collapsed": false
   },
   "outputs": [
    {
     "data": {
      "text/html": [
       "<div>\n",
       "<table border=\"1\" class=\"dataframe\">\n",
       "  <thead>\n",
       "    <tr style=\"text-align: right;\">\n",
       "      <th></th>\n",
       "      <th>PLAYER</th>\n",
       "      <th>TEAM</th>\n",
       "      <th>GP</th>\n",
       "      <th>G</th>\n",
       "      <th>A</th>\n",
       "      <th>PTS</th>\n",
       "      <th>+/-</th>\n",
       "      <th>PIM</th>\n",
       "      <th>PTS/G</th>\n",
       "      <th>SOG</th>\n",
       "      <th>PCT</th>\n",
       "      <th>GWG</th>\n",
       "      <th>G.1</th>\n",
       "      <th>A.1</th>\n",
       "      <th>G.2</th>\n",
       "      <th>A.2</th>\n",
       "    </tr>\n",
       "  </thead>\n",
       "  <tbody>\n",
       "    <tr>\n",
       "      <th>0</th>\n",
       "      <td>Jamie Benn, LW</td>\n",
       "      <td>DAL</td>\n",
       "      <td>82</td>\n",
       "      <td>35</td>\n",
       "      <td>52</td>\n",
       "      <td>87</td>\n",
       "      <td>1</td>\n",
       "      <td>64</td>\n",
       "      <td>1.06</td>\n",
       "      <td>253</td>\n",
       "      <td>13.8</td>\n",
       "      <td>6</td>\n",
       "      <td>10</td>\n",
       "      <td>13</td>\n",
       "      <td>2</td>\n",
       "      <td>3</td>\n",
       "    </tr>\n",
       "    <tr>\n",
       "      <th>1</th>\n",
       "      <td>John Tavares, C</td>\n",
       "      <td>NYI</td>\n",
       "      <td>82</td>\n",
       "      <td>38</td>\n",
       "      <td>48</td>\n",
       "      <td>86</td>\n",
       "      <td>5</td>\n",
       "      <td>46</td>\n",
       "      <td>1.05</td>\n",
       "      <td>278</td>\n",
       "      <td>13.7</td>\n",
       "      <td>8</td>\n",
       "      <td>13</td>\n",
       "      <td>18</td>\n",
       "      <td>0</td>\n",
       "      <td>1</td>\n",
       "    </tr>\n",
       "    <tr>\n",
       "      <th>2</th>\n",
       "      <td>Sidney Crosby, C</td>\n",
       "      <td>PIT</td>\n",
       "      <td>77</td>\n",
       "      <td>28</td>\n",
       "      <td>56</td>\n",
       "      <td>84</td>\n",
       "      <td>5</td>\n",
       "      <td>47</td>\n",
       "      <td>1.09</td>\n",
       "      <td>237</td>\n",
       "      <td>11.8</td>\n",
       "      <td>3</td>\n",
       "      <td>10</td>\n",
       "      <td>21</td>\n",
       "      <td>0</td>\n",
       "      <td>0</td>\n",
       "    </tr>\n",
       "    <tr>\n",
       "      <th>3</th>\n",
       "      <td>Alex Ovechkin, LW</td>\n",
       "      <td>WSH</td>\n",
       "      <td>81</td>\n",
       "      <td>53</td>\n",
       "      <td>28</td>\n",
       "      <td>81</td>\n",
       "      <td>10</td>\n",
       "      <td>58</td>\n",
       "      <td>1.00</td>\n",
       "      <td>395</td>\n",
       "      <td>13.4</td>\n",
       "      <td>11</td>\n",
       "      <td>25</td>\n",
       "      <td>9</td>\n",
       "      <td>0</td>\n",
       "      <td>0</td>\n",
       "    </tr>\n",
       "    <tr>\n",
       "      <th>4</th>\n",
       "      <td>Jakub Voracek, RW</td>\n",
       "      <td>PHI</td>\n",
       "      <td>82</td>\n",
       "      <td>22</td>\n",
       "      <td>59</td>\n",
       "      <td>81</td>\n",
       "      <td>1</td>\n",
       "      <td>78</td>\n",
       "      <td>0.99</td>\n",
       "      <td>221</td>\n",
       "      <td>10.0</td>\n",
       "      <td>3</td>\n",
       "      <td>11</td>\n",
       "      <td>22</td>\n",
       "      <td>0</td>\n",
       "      <td>0</td>\n",
       "    </tr>\n",
       "  </tbody>\n",
       "</table>\n",
       "</div>"
      ],
      "text/plain": [
       "              PLAYER TEAM  GP   G   A PTS +/- PIM PTS/G  SOG   PCT GWG G.1  \\\n",
       "0     Jamie Benn, LW  DAL  82  35  52  87   1  64  1.06  253  13.8   6  10   \n",
       "1    John Tavares, C  NYI  82  38  48  86   5  46  1.05  278  13.7   8  13   \n",
       "2   Sidney Crosby, C  PIT  77  28  56  84   5  47  1.09  237  11.8   3  10   \n",
       "3  Alex Ovechkin, LW  WSH  81  53  28  81  10  58  1.00  395  13.4  11  25   \n",
       "4  Jakub Voracek, RW  PHI  82  22  59  81   1  78  0.99  221  10.0   3  11   \n",
       "\n",
       "  A.1 G.2 A.2  \n",
       "0  13   2   3  \n",
       "1  18   0   1  \n",
       "2  21   0   0  \n",
       "3   9   0   0  \n",
       "4  22   0   0  "
      ]
     },
     "execution_count": 178,
     "metadata": {},
     "output_type": "execute_result"
    }
   ],
   "source": [
    "df.head()"
   ]
  },
  {
   "cell_type": "code",
   "execution_count": 179,
   "metadata": {
    "collapsed": false
   },
   "outputs": [],
   "source": [
    "df = df.dropna(axis=0, thresh=4)"
   ]
  },
  {
   "cell_type": "code",
   "execution_count": 180,
   "metadata": {
    "collapsed": false
   },
   "outputs": [],
   "source": [
    "df = df[df['PLAYER'] != 'PLAYER']"
   ]
  },
  {
   "cell_type": "code",
   "execution_count": 181,
   "metadata": {
    "collapsed": false
   },
   "outputs": [
    {
     "data": {
      "text/plain": [
       "PLAYER    object\n",
       "TEAM      object\n",
       "GP        object\n",
       "G         object\n",
       "A         object\n",
       "PTS       object\n",
       "+/-       object\n",
       "PIM       object\n",
       "PTS/G     object\n",
       "SOG       object\n",
       "PCT       object\n",
       "GWG       object\n",
       "G.1       object\n",
       "A.1       object\n",
       "G.2       object\n",
       "A.2       object\n",
       "dtype: object"
      ]
     },
     "execution_count": 181,
     "metadata": {},
     "output_type": "execute_result"
    }
   ],
   "source": [
    "df.dtypes"
   ]
  },
  {
   "cell_type": "code",
   "execution_count": 182,
   "metadata": {
    "collapsed": false
   },
   "outputs": [],
   "source": [
    "df.iloc[:,2:] = df.iloc[:,2:].apply(pd.to_numeric, errors='coerce')"
   ]
  },
  {
   "cell_type": "code",
   "execution_count": 208,
   "metadata": {
    "collapsed": false
   },
   "outputs": [],
   "source": [
    "df = df.reset_index()"
   ]
  },
  {
   "cell_type": "code",
   "execution_count": 187,
   "metadata": {
    "collapsed": false
   },
   "outputs": [
    {
     "data": {
      "text/plain": [
       "PLAYER    40\n",
       "TEAM      40\n",
       "GP        40\n",
       "G         40\n",
       "A         40\n",
       "PTS       40\n",
       "+/-       40\n",
       "PIM       40\n",
       "PTS/G     40\n",
       "SOG       40\n",
       "PCT       40\n",
       "GWG       40\n",
       "G.1       40\n",
       "A.1       40\n",
       "G.2       40\n",
       "A.2       40\n",
       "dtype: int64"
      ]
     },
     "execution_count": 187,
     "metadata": {},
     "output_type": "execute_result"
    }
   ],
   "source": [
    "df.count()"
   ]
  },
  {
   "cell_type": "code",
   "execution_count": 197,
   "metadata": {
    "collapsed": false
   },
   "outputs": [
    {
     "data": {
      "text/plain": [
       "36"
      ]
     },
     "execution_count": 197,
     "metadata": {},
     "output_type": "execute_result"
    }
   ],
   "source": [
    "len(df.PCT.unique())"
   ]
  },
  {
   "cell_type": "code",
   "execution_count": 212,
   "metadata": {
    "collapsed": false
   },
   "outputs": [
    {
     "data": {
      "text/plain": [
       "164.0"
      ]
     },
     "execution_count": 212,
     "metadata": {},
     "output_type": "execute_result"
    }
   ],
   "source": [
    "df.loc[15:16, 'GP'].sum()"
   ]
  },
  {
   "cell_type": "code",
   "execution_count": null,
   "metadata": {
    "collapsed": true
   },
   "outputs": [],
   "source": []
  }
 ],
 "metadata": {
  "kernelspec": {
   "display_name": "Python 3",
   "language": "python",
   "name": "python3"
  },
  "language_info": {
   "codemirror_mode": {
    "name": "ipython",
    "version": 3
   },
   "file_extension": ".py",
   "mimetype": "text/x-python",
   "name": "python",
   "nbconvert_exporter": "python",
   "pygments_lexer": "ipython3",
   "version": "3.6.0"
  }
 },
 "nbformat": 4,
 "nbformat_minor": 2
}
